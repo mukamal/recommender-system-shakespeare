{
  "nbformat": 4,
  "nbformat_minor": 0,
  "metadata": {
    "colab": {
      "name": "recommender-system-shakespeare.ipynb",
      "provenance": [],
      "collapsed_sections": [],
      "include_colab_link": true
    },
    "kernelspec": {
      "display_name": "Python 3",
      "name": "python3"
    }
  },
  "cells": [
    {
      "cell_type": "markdown",
      "metadata": {
        "id": "view-in-github",
        "colab_type": "text"
      },
      "source": [
        "<a href=\"https://colab.research.google.com/github/mukamal/recommender-system-shakespeare/blob/main/recommender_system_shakespeare.ipynb\" target=\"_parent\"><img src=\"https://colab.research.google.com/assets/colab-badge.svg\" alt=\"Open In Colab\"/></a>"
      ]
    },
    {
      "cell_type": "markdown",
      "metadata": {
        "id": "tXOWyany9H39"
      },
      "source": [
        "#Shakespeare Recommender System\n",
        "\n",
        "William Shakespeare is considered one of the greatest playwrights in the English language. He is attributed with 38 plays, 154 sonnets, and other works. Even 400 years later, his writings are still be studied in most high schools and colleges in the US and elsewhere. Shakespeare’s complete works are available online at http://shakespeare.mit.edu/.  We will be using a data set which has Shakespeare character quotes.  A lot of people are fascinated by the characters in the Shakespeare plays.  The first first part of the project is to create a Shakespeare character recommender system which is capable of recommending new characters which are similar to a speicific character of interest.  We will also explore using PCA inference to find important words in character quotes.  In the second part of the project we will use K-Means clustering to try and find one or more character insights. "
      ]
    },
    {
      "cell_type": "code",
      "metadata": {
        "id": "8NFmfL6uv56m",
        "colab": {
          "base_uri": "https://localhost:8080/"
        },
        "outputId": "78b4acff-4202-4191-c858-910e932b9cbd"
      },
      "source": [
        "%%bash\n",
        "# Need to install pyspark\n",
        "# if pyspark is already installed, will print a message indicating pyspark already isntalled\n",
        "pip install pyspark\n",
        "\n",
        "# Download the data files from github\n",
        "# If the data file does bgtxnot exist in the colab environment\n",
        "if [[ ! -f ./quotes_by_char.csv ]]; then \n",
        "   # download the data file from github and save it in this colab environment instance\n",
        "   wget https://raw.githubusercontent.com/mukamal/data/main/quotes_by_char.csv  \n",
        "fi"
      ],
      "execution_count": null,
      "outputs": [
        {
          "output_type": "stream",
          "text": [
            "Processing /root/.cache/pip/wheels/0b/90/c0/01de724414ef122bd05f056541fb6a0ecf47c7ca655f8b3c0f/pyspark-3.1.1-py2.py3-none-any.whl\n",
            "Collecting py4j==0.10.9\n",
            "  Using cached https://files.pythonhosted.org/packages/9e/b6/6a4fb90cd235dc8e265a6a2067f2a2c99f0d91787f06aca4bcf7c23f3f80/py4j-0.10.9-py2.py3-none-any.whl\n",
            "Installing collected packages: py4j, pyspark\n",
            "Successfully installed py4j-0.10.9 pyspark-3.1.1\n"
          ],
          "name": "stdout"
        },
        {
          "output_type": "stream",
          "text": [
            "--2021-04-22 23:36:10--  https://raw.githubusercontent.com/mukamal/data/main/quotes_by_char.csv\n",
            "Resolving raw.githubusercontent.com (raw.githubusercontent.com)... 185.199.111.133, 185.199.108.133, 185.199.110.133, ...\n",
            "Connecting to raw.githubusercontent.com (raw.githubusercontent.com)|185.199.111.133|:443... connected.\n",
            "HTTP request sent, awaiting response... 200 OK\n",
            "Length: 4352265 (4.2M) [text/plain]\n",
            "Saving to: ‘quotes_by_char.csv’\n",
            "\n",
            "     0K .......... .......... .......... .......... ..........  1% 3.91M 1s\n",
            "    50K .......... .......... .......... .......... ..........  2% 3.79M 1s\n",
            "   100K .......... .......... .......... .......... ..........  3% 49.0M 1s\n",
            "   150K .......... .......... .......... .......... ..........  4% 4.39M 1s\n",
            "   200K .......... .......... .......... .......... ..........  5% 12.5M 1s\n",
            "   250K .......... .......... .......... .......... ..........  7% 71.3M 1s\n",
            "   300K .......... .......... .......... .......... ..........  8% 67.0M 0s\n",
            "   350K .......... .......... .......... .......... ..........  9% 82.9M 0s\n",
            "   400K .......... .......... .......... .......... .......... 10% 6.94M 0s\n",
            "   450K .......... .......... .......... .......... .......... 11% 60.5M 0s\n",
            "   500K .......... .......... .......... .......... .......... 12% 59.7M 0s\n",
            "   550K .......... .......... .......... .......... .......... 14% 76.2M 0s\n",
            "   600K .......... .......... .......... .......... .......... 15% 69.5M 0s\n",
            "   650K .......... .......... .......... .......... .......... 16%  206M 0s\n",
            "   700K .......... .......... .......... .......... .......... 17%  227M 0s\n",
            "   750K .......... .......... .......... .......... .......... 18%  208M 0s\n",
            "   800K .......... .......... .......... .......... .......... 19%  181M 0s\n",
            "   850K .......... .......... .......... .......... .......... 21% 5.87M 0s\n",
            "   900K .......... .......... .......... .......... .......... 22% 48.3M 0s\n",
            "   950K .......... .......... .......... .......... .......... 23% 67.8M 0s\n",
            "  1000K .......... .......... .......... .......... .......... 24%  330M 0s\n",
            "  1050K .......... .......... .......... .......... .......... 25%  360M 0s\n",
            "  1100K .......... .......... .......... .......... .......... 27%  322M 0s\n",
            "  1150K .......... .......... .......... .......... .......... 28%  393M 0s\n",
            "  1200K .......... .......... .......... .......... .......... 29%  382M 0s\n",
            "  1250K .......... .......... .......... .......... .......... 30%  287M 0s\n",
            "  1300K .......... .......... .......... .......... .......... 31%  308M 0s\n",
            "  1350K .......... .......... .......... .......... .......... 32%  390M 0s\n",
            "  1400K .......... .......... .......... .......... .......... 34%  384M 0s\n",
            "  1450K .......... .......... .......... .......... .......... 35%  324M 0s\n",
            "  1500K .......... .......... .......... .......... .......... 36%  350M 0s\n",
            "  1550K .......... .......... .......... .......... .......... 37%  389M 0s\n",
            "  1600K .......... .......... .......... .......... .......... 38%  357M 0s\n",
            "  1650K .......... .......... .......... .......... .......... 39%  289M 0s\n",
            "  1700K .......... .......... .......... .......... .......... 41%  315M 0s\n",
            "  1750K .......... .......... .......... .......... .......... 42%  349M 0s\n",
            "  1800K .......... .......... .......... .......... .......... 43% 5.33M 0s\n",
            "  1850K .......... .......... .......... .......... .......... 44% 47.5M 0s\n",
            "  1900K .......... .......... .......... .......... .......... 45% 71.7M 0s\n",
            "  1950K .......... .......... .......... .......... .......... 47% 67.5M 0s\n",
            "  2000K .......... .......... .......... .......... .......... 48% 80.3M 0s\n",
            "  2050K .......... .......... .......... .......... .......... 49% 91.8M 0s\n",
            "  2100K .......... .......... .......... .......... .......... 50% 77.6M 0s\n",
            "  2150K .......... .......... .......... .......... .......... 51% 75.0M 0s\n",
            "  2200K .......... .......... .......... .......... .......... 52% 76.1M 0s\n",
            "  2250K .......... .......... .......... .......... .......... 54% 87.0M 0s\n",
            "  2300K .......... .......... .......... .......... .......... 55% 60.1M 0s\n",
            "  2350K .......... .......... .......... .......... .......... 56%  371M 0s\n",
            "  2400K .......... .......... .......... .......... .......... 57%  372M 0s\n",
            "  2450K .......... .......... .......... .......... .......... 58%  319M 0s\n",
            "  2500K .......... .......... .......... .......... .......... 59% 70.2M 0s\n",
            "  2550K .......... .......... .......... .......... .......... 61% 47.2M 0s\n",
            "  2600K .......... .......... .......... .......... .......... 62% 91.9M 0s\n",
            "  2650K .......... .......... .......... .......... .......... 63%  217M 0s\n",
            "  2700K .......... .......... .......... .......... .......... 64%  117M 0s\n",
            "  2750K .......... .......... .......... .......... .......... 65%  170M 0s\n",
            "  2800K .......... .......... .......... .......... .......... 67%  205M 0s\n",
            "  2850K .......... .......... .......... .......... .......... 68%  214M 0s\n",
            "  2900K .......... .......... .......... .......... .......... 69%  185M 0s\n",
            "  2950K .......... .......... .......... .......... .......... 70%  172M 0s\n",
            "  3000K .......... .......... .......... .......... .......... 71%  160M 0s\n",
            "  3050K .......... .......... .......... .......... .......... 72%  265M 0s\n",
            "  3100K .......... .......... .......... .......... .......... 74%  274M 0s\n",
            "  3150K .......... .......... .......... .......... .......... 75%  343M 0s\n",
            "  3200K .......... .......... .......... .......... .......... 76%  342M 0s\n",
            "  3250K .......... .......... .......... .......... .......... 77%  128M 0s\n",
            "  3300K .......... .......... .......... .......... .......... 78%  302M 0s\n",
            "  3350K .......... .......... .......... .......... .......... 79%  376M 0s\n",
            "  3400K .......... .......... .......... .......... .......... 81%  313M 0s\n",
            "  3450K .......... .......... .......... .......... .......... 82%  370M 0s\n",
            "  3500K .......... .......... .......... .......... .......... 83%  295M 0s\n",
            "  3550K .......... .......... .......... .......... .......... 84%  374M 0s\n",
            "  3600K .......... .......... .......... .......... .......... 85%  322M 0s\n",
            "  3650K .......... .......... .......... .......... .......... 87%  335M 0s\n",
            "  3700K .......... .......... .......... .......... .......... 88%  360M 0s\n",
            "  3750K .......... .......... .......... .......... .......... 89%  157M 0s\n",
            "  3800K .......... .......... .......... .......... .......... 90%  307M 0s\n",
            "  3850K .......... .......... .......... .......... .......... 91%  381M 0s\n",
            "  3900K .......... .......... .......... .......... .......... 92%  282M 0s\n",
            "  3950K .......... .......... .......... .......... .......... 94%  359M 0s\n",
            "  4000K .......... .......... .......... .......... .......... 95%  373M 0s\n",
            "  4050K .......... .......... .......... .......... .......... 96%  337M 0s\n",
            "  4100K .......... .......... .......... .......... .......... 97%  376M 0s\n",
            "  4150K .......... .......... .......... .......... .......... 98%  272M 0s\n",
            "  4200K .......... .......... .......... .......... .......... 99%  392M 0s\n",
            "  4250K                                                       100%  494G=0.09s\n",
            "\n",
            "2021-04-22 23:36:11 (45.3 MB/s) - ‘quotes_by_char.csv’ saved [4352265/4352265]\n",
            "\n"
          ],
          "name": "stderr"
        }
      ]
    },
    {
      "cell_type": "markdown",
      "metadata": {
        "id": "vtMyxEOqPY6d"
      },
      "source": [
        "\n",
        "Reading quotes_by_char.csv file into a spark dataframe named `quotes_by_char_df`.  Drop the `Unnamed` column.  \n",
        "\n",
        "Transforming the character column such that all character names are lower case."
      ]
    },
    {
      "cell_type": "code",
      "metadata": {
        "id": "wR-HcUxMPinA",
        "colab": {
          "base_uri": "https://localhost:8080/"
        },
        "outputId": "662334c7-42d7-41fb-d69e-cf6cde915964"
      },
      "source": [
        "\n",
        "# import statements\n",
        "from pyspark.sql.functions import lower, col\n",
        "from pyspark.sql import SparkSession\n",
        "from pyspark.sql import SQLContext\n",
        "#spark = SparkSession.builder.getOrCreate()\n",
        "\n",
        "\n",
        "\n",
        "\n",
        "spark = SparkSession \\\n",
        "  .builder \\\n",
        "  .master(\"local[*]\")\\\n",
        "  .config(\"spark.memory.fraction\", 0.8) \\\n",
        "  .config(\"spark.executor.memory\", \"12g\") \\\n",
        "  .config(\"spark.driver.memory\", \"12g\")\\\n",
        "  .config(\"spark.memory.offHeap.enabled\",'true')\\\n",
        "  .config(\"spark.memory.offHeap.size\",\"12g\")\\\n",
        "  .getOrCreate()\n",
        "\n",
        "\n",
        "sc = spark.sparkContext\n",
        "sqlContext = SQLContext(sc)\n",
        "\n",
        "\n",
        "quotes_by_char_df = spark.read.format(\"csv\").option(\"header\", \"true\").load(\"quotes_by_char.csv\")\n",
        "\n",
        "#Drop the Unnamed column\n",
        "quotes_by_char_df=quotes_by_char_df.drop('_c0')\n",
        "\n",
        "#Transform the character column such that all character names are lower case.\n",
        "\n",
        "quotes_by_char_df.dtypes\n",
        "quotes_by_char_df=quotes_by_char_df.withColumn('character', lower(col('character')))\n",
        "quotes_by_char_df.take(5)\n"
      ],
      "execution_count": null,
      "outputs": [
        {
          "output_type": "execute_result",
          "data": {
            "text/plain": [
              "[Row(character='& c', all_quotes='Well met, Master Ford. '),\n",
              " Row(character='a lord', all_quotes='Sir, it was I. '),\n",
              " Row(character='a patrician', all_quotes=\"This man has marr'd his fortune. You do the nobler. Ay, and burn too. \"),\n",
              " Row(character='a player', all_quotes=\"So please your lordship to accept our duty. I think 'twas Soto that your honour means. Fear not, my lord: we can contain ourselves, Were he the veriest antic in the world. \"),\n",
              " Row(character='aaron', all_quotes=\"Now climbeth Tamora Olympus' top, Safe out of fortune's shot; and sits aloft, Secure of thunder's crack or lightning flash; Advanced above pale envy's threatening reach. As when the golden sun salutes the morn, And, having gilt the ocean with his beams, Gallops the zodiac in his glistering coach, And overlooks the highest-peering hills; So Tamora: Upon her wit doth earthly honour wait, And virtue stoops and trembles at her frown. Then, Aaron, arm thy heart, and fit thy thoughts, To mount aloft with thy imperial mistress, And mount her pitch, whom thou in triumph long Hast prisoner held, fetter'd in amorous chains And faster bound to Aaron's charming eyes Than is Prometheus tied to Caucasus. Away with slavish weeds and servile thoughts! I will be bright, and shine in pearl and gold, To wait upon this new-made empress. To wait, said I? to wanton with this queen, This goddess, this Semiramis, this nymph, This siren, that will charm Rome's Saturnine, And see his shipwreck and his commonweal's. Holloa! what storm is this? [Aside]  Clubs, clubs! these lovers will not keep the peace. [Coming forward]  Why, how now, lords! So near the emperor's palace dare you draw, And maintain such a quarrel openly? Full well I wot the ground of all this grudge: I would not for a million of gold The cause were known to them it most concerns; Nor would your noble mother for much more Be so dishonour'd in the court of Rome. For shame, put up. Away, I say! Now, by the gods that warlike Goths adore, This petty brabble will undo us all. Why, lords, and think you not how dangerous It is to jet upon a prince's right? What, is Lavinia then become so loose, Or Bassianus so degenerate, That for her love such quarrels may be broach'd Without controlment, justice, or revenge? Young lords, beware! and should the empress know This discord's ground, the music would not please. Why, are ye mad? or know ye not, in Rome How furious and impatient they be, And cannot brook competitors in love? I tell you, lords, you do but plot your deaths By this device. To achieve her! how? [Aside]  Ay, and as good as Saturninus may. Why, then, it seems, some certain snatch or so Would serve your turns. Would you had hit it too! Then should not we be tired with this ado. Why, hark ye, hark ye! and are you such fools To square for this? would it offend you, then That both should speed? For shame, be friends, and join for that you jar: 'Tis policy and stratagem must do That you affect; and so must you resolve, That what you cannot as you would achieve, You must perforce accomplish as you may. Take this of me: Lucrece was not more chaste Than this Lavinia, Bassianus' love. A speedier course than lingering languishment Must we pursue, and I have found the path. My lords, a solemn hunting is in hand; There will the lovely Roman ladies troop: The forest walks are wide and spacious; And many unfrequented plots there are Fitted by kind for rape and villany: Single you thither then this dainty doe, And strike her home by force, if not by words: This way, or not at all, stand you in hope. Come, come, our empress, with her sacred wit To villany and vengeance consecrate, Will we acquaint with all that we intend; And she shall file our engines with advice, That will not suffer you to square yourselves, But to your wishes' height advance you both. The emperor's court is like the house of Fame, The palace full of tongues, of eyes, and ears: The woods are ruthless, dreadful, deaf, and dull; There speak, and strike, brave boys, and take your turns; There serve your lusts, shadow'd from heaven's eye, And revel in Lavinia's treasury. He that had wit would think that I had none, To bury so much gold under a tree, And never after to inherit it. Let him that thinks of me so abjectly Know that this gold must coin a stratagem, Which, cunningly effected, will beget A very excellent piece of villany: And so repose, sweet gold, for their unrest That have their alms out of the empress' chest. Madam, though Venus govern your desires, Saturn is dominator over mine: What signifies my deadly-standing eye, My silence and my cloudy melancholy, My fleece of woolly hair that now uncurls Even as an adder when she doth unroll To do some fatal execution? No, madam, these are no venereal signs: Vengeance is in my heart, death in my hand, Blood and revenge are hammering in my head. Hark Tamora, the empress of my soul, Which never hopes more heaven than rests in thee, This is the day of doom for Bassianus: His Philomel must lose her tongue to-day, Thy sons make pillage of her chastity And wash their hands in Bassianus' blood. Seest thou this letter? take it up, I pray thee, And give the king this fatal plotted scroll. Now question me no more; we are espied; Here comes a parcel of our hopeful booty, Which dreads not yet their lives' destruction. No more, great empress; Bassianus comes: Be cross with him; and I'll go fetch thy sons To back thy quarrels, whatsoe'er they be. Come on, my lords, the better foot before: Straight will I bring you to the loathsome pit Where I espied the panther fast asleep. [Aside]  Now will I fetch the king to find them here, That he thereby may give a likely guess How these were they that made away his brother. My gracious lord, here is the bag of gold. Titus Andronicus, my lord the emperor Sends thee this word,--that, if thou love thy sons, Let Marcus, Lucius, or thyself, old Titus, Or any one of you, chop off your hand, And send it to the king: he for the same Will send thee hither both thy sons alive; And that shall be the ransom for their fault. Nay, come, agree whose hand shall go along, For fear they die before their pardon come. [Aside]  If that be call'd deceit, I will be honest, And never, whilst I live, deceive men so: But I'll deceive you in another sort, And that you'll say, ere half an hour pass. I go, Andronicus: and for thy hand Look by and by to have thy sons with thee. Their heads, I mean. O, how this villany Doth fat me with the very thoughts of it! Let fools do good, and fair men call for grace. Aaron will have his soul black like his face. Ay, some mad message from his mad grandfather. Ay, just; a verse in Horace; right, you have it. Now, what a thing it is to be an ass! Here's no sound jest! the old man hath found their guilt; And sends them weapons wrapped about with lines, That wound, beyond their feeling, to the quick. But were our witty empress well afoot, She would applaud Andronicus' conceit: But let her rest in her unrest awhile. And now, young lords, was't not a happy star Led us to Rome, strangers, and more than so, Captives, to be advanced to this height? It did me good, before the palace gate To brave the tribune in his brother's hearing. Had he not reason, Lord Demetrius? Did you not use his daughter very friendly? Here lacks but your mother for to say amen. [Aside]  Pray to the devils; the gods have given us over. Well, more or less, or ne'er a whit at all, Here Aaron is; and what with Aaron now? Why, what a caterwauling dost thou keep! What dost thou wrap and fumble in thine arms? To whom? Well, God give her good rest! What hath he sent her? Why, then she is the devil's dam; a joyful issue. 'Zounds, ye whore! is black so base a hue? Sweet blowse, you are a beauteous blossom, sure. That which thou canst not undo. Villain, I have done thy mother. It shall not die. What, must it, nurse? then let no man but I Do execution on my flesh and blood. Sooner this sword shall plough thy bowels up. Stay, murderous villains! will you kill your brother? Now, by the burning tapers of the sky, That shone so brightly when this boy was got, He dies upon my scimitar's sharp point That touches this my first-born son and heir! I tell you, younglings, not Enceladus, With all his threatening band of Typhon's brood, Nor great Alcides, nor the god of war, Shall seize this prey out of his father's hands. What, what, ye sanguine, shallow-hearted boys! Ye white-limed walls! ye alehouse painted signs! Coal-black is better than another hue, In that it scorns to bear another hue; For all the water in the ocean Can never turn the swan's black legs to white, Although she lave them hourly in the flood. Tell the empress from me, I am of age To keep mine own, excuse it how she can. My mistress is my mistress; this myself, The vigour and the picture of my youth: This before all the world do I prefer; This maugre all the world will I keep safe, Or some of you shall smoke for it in Rome. Why, there's the privilege your beauty bears: Fie, treacherous hue, that will betray with blushing The close enacts and counsels of the heart! Here's a young lad framed of another leer: Look, how the black slave smiles upon the father, As who should say 'Old lad, I am thine own.' He is your brother, lords, sensibly fed Of that self-blood that first gave life to you, And from that womb where you imprison'd were He is enfranchised and come to light: Nay, he is your brother by the surer side, Although my seal be stamped in his face. Then sit we down, and let us all consult. My son and I will have the wind of you: Keep there: now talk at pleasure of your safety. Why, so, brave lords! when we join in league, I am a lamb: but if you brave the Moor, The chafed boar, the mountain lioness, The ocean swells not so as Aaron storms. But say, again; how many saw the child? The empress, the midwife, and yourself: Two may keep counsel when the third's away: Go to the empress, tell her this I said. Weke, weke! so cries a pig prepared to the spit. O Lord, sir, 'tis a deed of policy: Shall she live to betray this guilt of ours, A long-tongued babbling gossip? no, lords, no: And now be it known to you my full intent. Not far, one Muli lives, my countryman; His wife but yesternight was brought to bed; His child is like to her, fair as you are: Go pack with him, and give the mother gold, And tell them both the circumstance of all; And how by this their child shall be advanced, And be received for the emperor's heir, And substituted in the place of mine, To calm this tempest whirling in the court; And let the emperor dandle him for his own. Hark ye, lords; ye see I have given her physic, And you must needs bestow her funeral; The fields are near, and you are gallant grooms: This done, see that you take no longer days, But send the midwife presently to me. The midwife and the nurse well made away, Then let the ladies tattle what they please. Now to the Goths, as swift as swallow flies; There to dispose this treasure in mine arms, And secretly to greet the empress' friends. Come on, you thick lipp'd slave, I'll bear you hence; For it is you that puts us to our shifts: I'll make you feed on berries and on roots, And feed on curds and whey, and suck the goat, And cabin in a cave, and bring you up To be a warrior, and command a camp. Touch not the boy; he is of royal blood.                   Lucius, save the child, And bear it from me to the empress. If thou do this, I'll show thee wondrous things, That highly may advantage thee to hear: If thou wilt not, befall what may befall, I'll speak no more but 'Vengeance rot you all!' An if it please thee! why, assure thee, Lucius, 'Twill vex thy soul to hear what I shall speak; For I must talk of murders, rapes and massacres, Acts of black night, abominable deeds, Complots of mischief, treason, villanies Ruthful to hear, yet piteously perform'd: And this shall all be buried by my death, Unless thou swear to me my child shall live. Swear that he shall, and then I will begin. What if I do not? as, indeed, I do not; Yet, for I know thou art religious And hast a thing within thee called conscience, With twenty popish tricks and ceremonies, Which I have seen thee careful to observe, Therefore I urge thy oath; for that I know An idiot holds his bauble for a god And keeps the oath which by that god he swears, To that I'll urge him: therefore thou shalt vow By that same god, what god soe'er it be, That thou adorest and hast in reverence, To save my boy, to nourish and bring him up; Or else I will discover nought to thee. First know thou, I begot him on the empress. Tut, Lucius, this was but a deed of charity To that which thou shalt hear of me anon. 'Twas her two sons that murder'd Bassianus; They cut thy sister's tongue and ravish'd her And cut her hands and trimm'd her as thou saw'st. Why, she was wash'd and cut and trimm'd, and 'twas Trim sport for them that had the doing of it. Indeed, I was their tutor to instruct them: That codding spirit had they from their mother, As sure a card as ever won the set; That bloody mind, I think, they learn'd of me, As true a dog as ever fought at head. Well, let my deeds be witness of my worth. I train'd thy brethren to that guileful hole Where the dead corpse of Bassianus lay: I wrote the letter that thy father found And hid the gold within the letter mention'd, Confederate with the queen and her two sons: And what not done, that thou hast cause to rue, Wherein I had no stroke of mischief in it? I play'd the cheater for thy father's hand, And, when I had it, drew myself apart And almost broke my heart with extreme laughter: I pry'd me through the crevice of a wall When, for his hand, he had his two sons' heads; Beheld his tears, and laugh'd so heartily, That both mine eyes were rainy like to his : And when I told the empress of this sport, She swooned almost at my pleasing tale, And for my tidings gave me twenty kisses. Ay, like a black dog, as the saying is. Ay, that I had not done a thousand more. Even now I curse the day--and yet, I think, Few come within the compass of my curse,-- Wherein I did not some notorious ill, As kill a man, or else devise his death, Ravish a maid, or plot the way to do it, Accuse some innocent and forswear myself, Set deadly enmity between two friends, Make poor men's cattle break their necks; Set fire on barns and hay-stacks in the night, And bid the owners quench them with their tears. Oft have I digg'd up dead men from their graves, And set them upright at their dear friends' doors, Even when their sorrows almost were forgot; And on their skins, as on the bark of trees, Have with my knife carved in Roman letters, 'Let not your sorrow die, though I am dead.' Tut, I have done a thousand dreadful things As willingly as one would kill a fly, And nothing grieves me heartily indeed But that I cannot do ten thousand more. If there be devils, would I were a devil, To live and burn in everlasting fire, So I might have your company in hell, But to torment you with my bitter tongue! Some devil whisper curses in mine ear, And prompt me, that my tongue may utter forth The venomous malice of my swelling heart! O, why should wrath be mute, and fury dumb? I am no baby, I, that with base prayers I should repent the evils I have done: Ten thousand worse than ever yet I did Would I perform, if I might have my will; If one good deed in all my life I did, I do repent it from my very soul. \")]"
            ]
          },
          "metadata": {
            "tags": []
          },
          "execution_count": 2
        }
      ]
    },
    {
      "cell_type": "code",
      "metadata": {
        "id": "F56XM6z59zxs",
        "colab": {
          "base_uri": "https://localhost:8080/",
          "height": 195
        },
        "outputId": "c4962387-f86d-4416-a516-725ea2e41fb8"
      },
      "source": [
        "display(quotes_by_char_df.toPandas().head())"
      ],
      "execution_count": null,
      "outputs": [
        {
          "output_type": "display_data",
          "data": {
            "text/html": [
              "<div>\n",
              "<style scoped>\n",
              "    .dataframe tbody tr th:only-of-type {\n",
              "        vertical-align: middle;\n",
              "    }\n",
              "\n",
              "    .dataframe tbody tr th {\n",
              "        vertical-align: top;\n",
              "    }\n",
              "\n",
              "    .dataframe thead th {\n",
              "        text-align: right;\n",
              "    }\n",
              "</style>\n",
              "<table border=\"1\" class=\"dataframe\">\n",
              "  <thead>\n",
              "    <tr style=\"text-align: right;\">\n",
              "      <th></th>\n",
              "      <th>character</th>\n",
              "      <th>all_quotes</th>\n",
              "    </tr>\n",
              "  </thead>\n",
              "  <tbody>\n",
              "    <tr>\n",
              "      <th>0</th>\n",
              "      <td>&amp; c</td>\n",
              "      <td>Well met, Master Ford.</td>\n",
              "    </tr>\n",
              "    <tr>\n",
              "      <th>1</th>\n",
              "      <td>a lord</td>\n",
              "      <td>Sir, it was I.</td>\n",
              "    </tr>\n",
              "    <tr>\n",
              "      <th>2</th>\n",
              "      <td>a patrician</td>\n",
              "      <td>This man has marr'd his fortune. You do the no...</td>\n",
              "    </tr>\n",
              "    <tr>\n",
              "      <th>3</th>\n",
              "      <td>a player</td>\n",
              "      <td>So please your lordship to accept our duty. I ...</td>\n",
              "    </tr>\n",
              "    <tr>\n",
              "      <th>4</th>\n",
              "      <td>aaron</td>\n",
              "      <td>Now climbeth Tamora Olympus' top, Safe out of ...</td>\n",
              "    </tr>\n",
              "  </tbody>\n",
              "</table>\n",
              "</div>"
            ],
            "text/plain": [
              "     character                                         all_quotes\n",
              "0          & c                            Well met, Master Ford. \n",
              "1       a lord                                    Sir, it was I. \n",
              "2  a patrician  This man has marr'd his fortune. You do the no...\n",
              "3     a player  So please your lordship to accept our duty. I ...\n",
              "4        aaron  Now climbeth Tamora Olympus' top, Safe out of ..."
            ]
          },
          "metadata": {
            "tags": []
          }
        }
      ]
    },
    {
      "cell_type": "markdown",
      "metadata": {
        "id": "HlIwZWwePs8X"
      },
      "source": [
        "\n",
        "Creating spark pipeline named `pipe_pca_1` which performs Principal Component Analysis (PCA) on `chars_df`.  \n",
        "\n",
        "Using `pipe_pca_1` to create a new dataframe named `chars_pca_df`.  \n",
        "\n",
        "Analyzing the resulting number of TF-IDF data rows and columns in the data. \n",
        "\n",
        "\n",
        "Using the analysis for the number of rows and cols in the data, explicitly set the K parameter in the spark PCA object equal to the maximum number of principal components.  \n"
      ]
    },
    {
      "cell_type": "code",
      "metadata": {
        "id": "Jidd9mDtQ40M"
      },
      "source": [
        "from pyspark.ml import feature, regression, evaluation, Pipeline\n",
        "from pyspark.ml.feature import Tokenizer\n",
        "from pyspark.ml.feature import CountVectorizer\n",
        "from pyspark.ml.feature import StandardScaler\n",
        "from pyspark.ml.feature import PCA\n",
        "from pyspark.ml.feature import RegexTokenizer\n",
        "from pyspark.ml.feature import IDF\n",
        "from pyspark.ml.feature import StopWordsRemover\n",
        "from pyspark.ml.feature import Normalizer\n",
        "import requests\n",
        "stop_words = requests.get('http://ir.dcs.gla.ac.uk/resources/linguistic_utils/stop_words').text.split()\n",
        "\n",
        "tokenizer = RegexTokenizer().setGaps(False)\\\n",
        "  .setPattern(\"\\\\p{L}+\")\\\n",
        "  .setInputCol(\"all_quotes\")\\\n",
        "  .setOutputCol(\"words\")\n",
        "\n",
        "sw_filter = StopWordsRemover()\\\n",
        "  .setStopWords(stop_words)\\\n",
        "  .setCaseSensitive(False)\\\n",
        "  .setInputCol(\"words\")\\\n",
        "  .setOutputCol(\"filtered\")\n",
        "\n",
        "#choose vocabSize\n",
        "cv = CountVectorizer(minTF=4., minDF=10.)\\\n",
        "  .setInputCol(\"filtered\")\\\n",
        "  .setOutputCol(\"tf\")\n",
        "\n",
        "idf = IDF().\\\n",
        "    setInputCol('tf').\\\n",
        "    setOutputCol('tfidf')\n",
        "cnorm= Normalizer(inputCol='tfidf', outputCol='norm_tfidf')\n",
        "cScale=StandardScaler(withMean=True,inputCol='norm_tfidf', outputCol='ztfidf')\n",
        "\n",
        "pca=PCA(k=500, inputCol='ztfidf', outputCol='scores')\n",
        "\n",
        "\n",
        "#pipeline should tokenize, remove stop words, and do a TF-IDF transformation\n",
        "\n",
        "pipe_pca_1 = Pipeline(stages=[tokenizer, sw_filter, cv, idf,cnorm,cScale,pca]).fit(quotes_by_char_df)\n",
        "\n",
        "chars_pca_df=pipe_pca_1.transform(quotes_by_char_df)\n"
      ],
      "execution_count": null,
      "outputs": []
    },
    {
      "cell_type": "code",
      "metadata": {
        "id": "9DXERIotZz94",
        "colab": {
          "base_uri": "https://localhost:8080/"
        },
        "outputId": "221d5a4b-4cd4-4a19-fa45-abbfb1614f6a"
      },
      "source": [
        "\n",
        "print('num of rows of TF-IDF data',len(chars_pca_df.select('tfidf').toPandas()))\n",
        "print('num of cols of TF-IDF data',len(pipe_pca_1.stages[2].vocabulary))\n",
        "#sum(pipe_pca_1.stages[-1].explainedVariance)\n"
      ],
      "execution_count": null,
      "outputs": [
        {
          "output_type": "stream",
          "text": [
            "num of rows of TF-IDF data 966\n",
            "num of cols of TF-IDF data 4375\n"
          ],
          "name": "stdout"
        }
      ]
    },
    {
      "cell_type": "code",
      "metadata": {
        "id": "yr9VYXEzSabE",
        "colab": {
          "base_uri": "https://localhost:8080/",
          "height": 363
        },
        "outputId": "7ecc7138-0109-4d80-bbae-09fb159d078c"
      },
      "source": [
        "display(chars_pca_df.toPandas().head())"
      ],
      "execution_count": null,
      "outputs": [
        {
          "output_type": "display_data",
          "data": {
            "text/html": [
              "<div>\n",
              "<style scoped>\n",
              "    .dataframe tbody tr th:only-of-type {\n",
              "        vertical-align: middle;\n",
              "    }\n",
              "\n",
              "    .dataframe tbody tr th {\n",
              "        vertical-align: top;\n",
              "    }\n",
              "\n",
              "    .dataframe thead th {\n",
              "        text-align: right;\n",
              "    }\n",
              "</style>\n",
              "<table border=\"1\" class=\"dataframe\">\n",
              "  <thead>\n",
              "    <tr style=\"text-align: right;\">\n",
              "      <th></th>\n",
              "      <th>character</th>\n",
              "      <th>all_quotes</th>\n",
              "      <th>words</th>\n",
              "      <th>filtered</th>\n",
              "      <th>tf</th>\n",
              "      <th>tfidf</th>\n",
              "      <th>norm_tfidf</th>\n",
              "      <th>ztfidf</th>\n",
              "      <th>scores</th>\n",
              "    </tr>\n",
              "  </thead>\n",
              "  <tbody>\n",
              "    <tr>\n",
              "      <th>0</th>\n",
              "      <td>&amp; c</td>\n",
              "      <td>Well met, Master Ford.</td>\n",
              "      <td>[well, met, master, ford]</td>\n",
              "      <td>[met, master, ford]</td>\n",
              "      <td>(0.0, 0.0, 0.0, 0.0, 0.0, 0.0, 0.0, 0.0, 0.0, ...</td>\n",
              "      <td>(0.0, 0.0, 0.0, 0.0, 0.0, 0.0, 0.0, 0.0, 0.0, ...</td>\n",
              "      <td>(0.0, 0.0, 0.0, 0.0, 0.0, 0.0, 0.0, 0.0, 0.0, ...</td>\n",
              "      <td>[-0.5169884259207332, -0.48105111841410986, -0...</td>\n",
              "      <td>[0.8455151149229007, -1.4659754605126278, -1.2...</td>\n",
              "    </tr>\n",
              "    <tr>\n",
              "      <th>1</th>\n",
              "      <td>a lord</td>\n",
              "      <td>Sir, it was I.</td>\n",
              "      <td>[sir, it, was, i]</td>\n",
              "      <td>[sir]</td>\n",
              "      <td>(0.0, 0.0, 0.0, 0.0, 0.0, 0.0, 0.0, 0.0, 0.0, ...</td>\n",
              "      <td>(0.0, 0.0, 0.0, 0.0, 0.0, 0.0, 0.0, 0.0, 0.0, ...</td>\n",
              "      <td>(0.0, 0.0, 0.0, 0.0, 0.0, 0.0, 0.0, 0.0, 0.0, ...</td>\n",
              "      <td>[-0.5169884259207332, -0.48105111841410986, -0...</td>\n",
              "      <td>[0.8455151149229007, -1.4659754605126278, -1.2...</td>\n",
              "    </tr>\n",
              "    <tr>\n",
              "      <th>2</th>\n",
              "      <td>a patrician</td>\n",
              "      <td>This man has marr'd his fortune. You do the no...</td>\n",
              "      <td>[this, man, has, marr, d, his, fortune, you, d...</td>\n",
              "      <td>[man, marr, d, fortune, nobler, ay, burn]</td>\n",
              "      <td>(0.0, 0.0, 0.0, 0.0, 0.0, 0.0, 0.0, 0.0, 0.0, ...</td>\n",
              "      <td>(0.0, 0.0, 0.0, 0.0, 0.0, 0.0, 0.0, 0.0, 0.0, ...</td>\n",
              "      <td>(0.0, 0.0, 0.0, 0.0, 0.0, 0.0, 0.0, 0.0, 0.0, ...</td>\n",
              "      <td>[-0.5169884259207332, -0.48105111841410986, -0...</td>\n",
              "      <td>[0.8455151149229007, -1.4659754605126278, -1.2...</td>\n",
              "    </tr>\n",
              "    <tr>\n",
              "      <th>3</th>\n",
              "      <td>a player</td>\n",
              "      <td>So please your lordship to accept our duty. I ...</td>\n",
              "      <td>[so, please, your, lordship, to, accept, our, ...</td>\n",
              "      <td>[lordship, accept, duty, think, twas, soto, ho...</td>\n",
              "      <td>(0.0, 0.0, 0.0, 0.0, 0.0, 0.0, 0.0, 0.0, 0.0, ...</td>\n",
              "      <td>(0.0, 0.0, 0.0, 0.0, 0.0, 0.0, 0.0, 0.0, 0.0, ...</td>\n",
              "      <td>(0.0, 0.0, 0.0, 0.0, 0.0, 0.0, 0.0, 0.0, 0.0, ...</td>\n",
              "      <td>[-0.5169884259207332, -0.48105111841410986, -0...</td>\n",
              "      <td>[0.8455151149229007, -1.4659754605126278, -1.2...</td>\n",
              "    </tr>\n",
              "    <tr>\n",
              "      <th>4</th>\n",
              "      <td>aaron</td>\n",
              "      <td>Now climbeth Tamora Olympus' top, Safe out of ...</td>\n",
              "      <td>[now, climbeth, tamora, olympus, top, safe, ou...</td>\n",
              "      <td>[climbeth, tamora, olympus, safe, fortune, s, ...</td>\n",
              "      <td>(26.0, 16.0, 20.0, 18.0, 13.0, 12.0, 0.0, 5.0,...</td>\n",
              "      <td>(22.30907472962846, 19.21400365250883, 23.0122...</td>\n",
              "      <td>(0.14356901542390063, 0.12365082909863309, 0.1...</td>\n",
              "      <td>[0.44564187767991575, 0.5168019703272663, 0.63...</td>\n",
              "      <td>[-0.503244789914669, 2.2005424741768778, 3.074...</td>\n",
              "    </tr>\n",
              "  </tbody>\n",
              "</table>\n",
              "</div>"
            ],
            "text/plain": [
              "     character  ...                                             scores\n",
              "0          & c  ...  [0.8455151149229007, -1.4659754605126278, -1.2...\n",
              "1       a lord  ...  [0.8455151149229007, -1.4659754605126278, -1.2...\n",
              "2  a patrician  ...  [0.8455151149229007, -1.4659754605126278, -1.2...\n",
              "3     a player  ...  [0.8455151149229007, -1.4659754605126278, -1.2...\n",
              "4        aaron  ...  [-0.503244789914669, 2.2005424741768778, 3.074...\n",
              "\n",
              "[5 rows x 9 columns]"
            ]
          },
          "metadata": {
            "tags": []
          }
        }
      ]
    },
    {
      "cell_type": "markdown",
      "metadata": {
        "id": "Dqk2_l1rU1yb"
      },
      "source": [
        "\n",
        "Analyze the PCA data in `chars_pca_df`.  \n",
        "\n",
        "Create scree and cumulative variance explained plots"
      ]
    },
    {
      "cell_type": "code",
      "metadata": {
        "id": "NRBmwOQZVpUD",
        "colab": {
          "base_uri": "https://localhost:8080/",
          "height": 590
        },
        "outputId": "edafd715-b43e-48b4-b4b8-0ae3f4470809"
      },
      "source": [
        "import numpy as np\n",
        "import matplotlib.pyplot as plt\n",
        "\n",
        "# \"scree plot\"\n",
        "plt.figure()\n",
        "explained_var = pipe_pca_1.stages[-1].explainedVariance\n",
        "plt.plot(np.arange(1, len(explained_var)+1), explained_var)\n",
        "plt.title(\"Shakespeare Dataset Scree Plot\")\n",
        "plt.xlabel(\"Principal Component\")\n",
        "plt.ylabel(\"Proportion Variance Explained\")\n",
        "\n",
        "\n",
        "\n",
        "#the explained variance - plot\n",
        "cum_sum = np.cumsum(explained_var)\n",
        "plt.figure()\n",
        "plt.plot(np.arange(1, len(explained_var)+1), cum_sum)\n",
        "plt.title(\"Shakespeare Dataset Cumulative Sum of Variance Explained\")\n",
        "plt.xlabel(\"Cumulative Components\")\n",
        "plt.ylabel(\"Cumulative Sum of Variance Explained\")"
      ],
      "execution_count": null,
      "outputs": [
        {
          "output_type": "execute_result",
          "data": {
            "text/plain": [
              "Text(0, 0.5, 'Cumulative Sum of Variance Explained')"
            ]
          },
          "metadata": {
            "tags": []
          },
          "execution_count": 7
        },
        {
          "output_type": "display_data",
          "data": {
            "image/png": "[encoded data removed]",
            "text/plain": [
              "<Figure size 432x288 with 1 Axes>"
            ]
          },
          "metadata": {
            "tags": [],
            "needs_background": "light"
          }
        },
        {
          "output_type": "display_data",
          "data": {
            "image/png": "[encoded data removed]",
            "text/plain": [
              "<Figure size 432x288 with 1 Axes>"
            ]
          },
          "metadata": {
            "tags": [],
            "needs_background": "light"
          }
        }
      ]
    },
    {
      "cell_type": "markdown",
      "metadata": {
        "id": "b1ABRRMMVrTE"
      },
      "source": [
        "With **150** principal components, we get **90%** of explained variance. Which should be sufficient enough for our use."
      ]
    },
    {
      "cell_type": "markdown",
      "metadata": {
        "id": "qk1kbYHz-San"
      },
      "source": [
        "Code to make recommendations on new characters to study based on a specific character that a Shakespeare fan likes.\n",
        "\n",
        "Create a function named get_nearest_chars that takes 2 arguments: char and num_nearest_chars. The char arg is a string which defines the character for which we are interested in finding similar characters. \n",
        "\n",
        "The num_nearest_chars arg is an integer that defines the total number of nearest characters which we want included in the return list. The get_nearest_chars function shall perform all of its internal operations in spark and return a python list containing a string corresponding to each of the nearest characters defined by num_nearest_chars. Compute the list of characterss which are closest to the char arg using L2 Euclidian distance. \n"
      ]
    },
    {
      "cell_type": "code",
      "metadata": {
        "id": "hb071FINpchu"
      },
      "source": [
        "from math import sqrt\n",
        "import pandas as pd\n",
        "import numpy as np\n",
        "\n",
        "\n",
        "pca2=PCA(k=2, inputCol='ztfidf', outputCol='scores')\n",
        "pipe_pca_2 = Pipeline(stages=[tokenizer, sw_filter, cv, idf,cnorm,cScale,pca2]).fit(quotes_by_char_df)\n",
        "chars_pca_df_2=pipe_pca_2.transform(quotes_by_char_df)\n",
        "\n",
        "\n",
        "pca_model = pipe_pca_2.stages[-1]\n",
        "#pc1 = pca_model.pc.toArray()[:, 0].tolist()\n",
        "#pc2 = pca_model.pc.toArray()[:, 1].tolist()\n",
        "\n",
        "\n",
        "character = quotes_by_char_df.select('character').rdd.map(lambda x: x['character']).collect()\n",
        "X = np.array(chars_pca_df_2.select('scores').rdd.map(lambda x: x['scores']).collect())\n",
        "\n",
        "\n",
        "#print(\"X.shape:\", X.shape)\n",
        "def get_nearest_chars(char,num_nearest_chars):\n",
        "\n",
        "  if (char not in character):\n",
        "    print(\"Character not found in the list\")\n",
        "    return\n",
        "  if (num_nearest_chars >= len(character) or num_nearest_chars<=0):\n",
        "    print(\"num_nearest_chars is not valid\")\n",
        "    return\n",
        "\n",
        "  c=character.index(char)\n",
        "  corr=[]\n",
        "  [corr.append(sqrt((X[i][0]-X[c][0])**2+(X[i][1]-X[c][1])**2)) for i in range(len(character))]\n",
        "\n",
        "  final = pd.DataFrame({'char': character, 'corr': corr})\n",
        "  final_list=final.nsmallest(num_nearest_chars+1, 'corr')\n",
        "  return list(final_list['char'][1:])\n",
        "\n"
      ],
      "execution_count": null,
      "outputs": []
    },
    {
      "cell_type": "code",
      "metadata": {
        "id": "6Fw5i39WSna6",
        "colab": {
          "base_uri": "https://localhost:8080/"
        },
        "outputId": "5a87263f-19dc-4a88-fd86-b4708369086d"
      },
      "source": [
        "print(get_nearest_chars('romeo', 5))\n",
        "print(get_nearest_chars('juliet', 5))"
      ],
      "execution_count": null,
      "outputs": [
        {
          "output_type": "stream",
          "text": [
            "['buckingham', 'macbeth', 'queen margaret', 'duke vincentio', 'york']\n",
            "['prospero', 'coriolanus', 'henry bolingbroke', 'leontes', 'king lear']\n"
          ],
          "name": "stdout"
        }
      ]
    },
    {
      "cell_type": "code",
      "metadata": {
        "id": "116krsvfgdVu",
        "colab": {
          "base_uri": "https://localhost:8080/"
        },
        "outputId": "29cb641e-c23d-40a5-b24b-697b62b925c3"
      },
      "source": [
        "print(get_nearest_chars('!*!@', 5))\n",
        "print(get_nearest_chars('romeo', 1000000))\n",
        "print(get_nearest_chars(1, 1000000))\n",
        "# print(get_nearest_chars('romeo', 'romeo'))\n",
        "print(get_nearest_chars('romeo', -1))"
      ],
      "execution_count": null,
      "outputs": [
        {
          "output_type": "stream",
          "text": [
            "Character not found in the list\n",
            "None\n",
            "num_nearest_chars is not valid\n",
            "None\n",
            "Character not found in the list\n",
            "None\n",
            "num_nearest_chars is not valid\n",
            "None\n"
          ],
          "name": "stdout"
        }
      ]
    },
    {
      "cell_type": "markdown",
      "metadata": {
        "id": "4ONVAI_ke_rT"
      },
      "source": [
        "\n",
        "Using PCA score data from PC1 and PC2, create a 2 dimensional character visualization plot which shows what characters are similar to the `juliet` character.  "
      ]
    },
    {
      "cell_type": "code",
      "metadata": {
        "id": "OdMfglat2VHP",
        "colab": {
          "base_uri": "https://localhost:8080/",
          "height": 480
        },
        "outputId": "aa673a5a-6123-4c63-9725-342b5fba250d"
      },
      "source": [
        "import matplotlib.pyplot as plt\n",
        "\n",
        "fig, ax = plt.subplots()\n",
        "fig.set_figheight(7)\n",
        "fig.set_figwidth(7)\n",
        "#ax.scatter(X[:,0], X[:,1])\n",
        "fig.suptitle(\"2 D character visualization plot for characters similar to juliet \", y=.92)\n",
        "ax.set_xlabel(\"PC1\")\n",
        "ax.set_ylabel(\"PC2\")\n",
        "x=0\n",
        "\n",
        "c=character.index('juliet')\n",
        "ax.scatter(X[c,0], X[c,1])\n",
        "ax.annotate('juliet', (X[c,0], X[c,1]))\n",
        "\n",
        "\n",
        "\n",
        "for i, txt in enumerate(character):\n",
        "    if txt in get_nearest_chars('juliet', 20):\n",
        "\n",
        "      ax.scatter(X[i,0], X[i,1])\n",
        "\n",
        "\n",
        "for i, txt in enumerate(character):\n",
        "    if txt in get_nearest_chars('juliet', 5):\n",
        "      ax.annotate(txt, (X[i,0], X[i,1]))\n",
        "      #ax.scatter(X[i,0], X[i,1])\n",
        "      #print(txt)\n",
        "#print(x)\n",
        "    \n",
        "display(plt.show())\n",
        "\n"
      ],
      "execution_count": null,
      "outputs": [
        {
          "output_type": "display_data",
          "data": {
            "image/png": "[encoded data removed]",
            "text/plain": [
              "<Figure size 504x504 with 1 Axes>"
            ]
          },
          "metadata": {
            "tags": [],
            "needs_background": "light"
          }
        },
        {
          "output_type": "display_data",
          "data": {
            "text/plain": [
              "None"
            ]
          },
          "metadata": {
            "tags": []
          }
        }
      ]
    },
    {
      "cell_type": "markdown",
      "metadata": {
        "id": "jCwbTodAmd8s"
      },
      "source": [
        "Perform an inference analysis on the 10 most and 10 least important words in the data set as defined by the absolute value of the PC1 loading vector coefficients.  \n",
        "\n",
        "Present the data by loading and printing 2 Pandas data frames containing the 10 most important words and 10 least important words named `most_imp_df` and `least_imp_df` respectively.\n",
        "\n",
        "The data frames shall have 2 columns named `word` and `loading`.  "
      ]
    },
    {
      "cell_type": "code",
      "metadata": {
        "id": "UFmSgU_QoXin"
      },
      "source": [
        "\n",
        "pca_model = pipe_pca_2.stages[-1]\n",
        "pc1 = pca_model.pc.toArray()[:, 0].tolist()\n",
        "pc2 = pca_model.pc.toArray()[:, 1].tolist()\n",
        "\n",
        "vocabulary = pipe_pca_2.stages[2].vocabulary\n",
        "pc_loadings = pd.DataFrame([vocabulary, pc1]).T.rename(columns={0: 'word', 1: 'load_pc1'})\n",
        "#print(pc_loadings.shape)\n",
        "\n",
        "\n",
        "most_imp_df=pc_loadings.sort_values('load_pc1').\\\n",
        "    apply({'word': lambda x: x, 'load_pc1': np.abs}, axis=0).head(10)\n",
        "\n",
        "least_imp_df=pc_loadings.sort_values('load_pc1').\\\n",
        "    apply({'word': lambda x: x, 'load_pc1': np.abs}, axis=0).tail(10)    \n",
        "\n"
      ],
      "execution_count": null,
      "outputs": []
    },
    {
      "cell_type": "code",
      "metadata": {
        "id": "4KD45JN-oYjH",
        "colab": {
          "base_uri": "https://localhost:8080/",
          "height": 670
        },
        "outputId": "943fffa5-3ef1-45c3-a2d1-ac16739b33a9"
      },
      "source": [
        "display(most_imp_df)\n",
        "display(least_imp_df)"
      ],
      "execution_count": null,
      "outputs": [
        {
          "output_type": "display_data",
          "data": {
            "text/html": [
              "<div>\n",
              "<style scoped>\n",
              "    .dataframe tbody tr th:only-of-type {\n",
              "        vertical-align: middle;\n",
              "    }\n",
              "\n",
              "    .dataframe tbody tr th {\n",
              "        vertical-align: top;\n",
              "    }\n",
              "\n",
              "    .dataframe thead th {\n",
              "        text-align: right;\n",
              "    }\n",
              "</style>\n",
              "<table border=\"1\" class=\"dataframe\">\n",
              "  <thead>\n",
              "    <tr style=\"text-align: right;\">\n",
              "      <th></th>\n",
              "      <th>word</th>\n",
              "      <th>load_pc1</th>\n",
              "    </tr>\n",
              "  </thead>\n",
              "  <tbody>\n",
              "    <tr>\n",
              "      <th>2460</th>\n",
              "      <td>lads</td>\n",
              "      <td>0.12472</td>\n",
              "    </tr>\n",
              "    <tr>\n",
              "      <th>2331</th>\n",
              "      <td>penny</td>\n",
              "      <td>0.12472</td>\n",
              "    </tr>\n",
              "    <tr>\n",
              "      <th>3033</th>\n",
              "      <td>shrewsbury</td>\n",
              "      <td>0.12472</td>\n",
              "    </tr>\n",
              "    <tr>\n",
              "      <th>1356</th>\n",
              "      <td>lean</td>\n",
              "      <td>0.12472</td>\n",
              "    </tr>\n",
              "    <tr>\n",
              "      <th>1671</th>\n",
              "      <td>rob</td>\n",
              "      <td>0.12472</td>\n",
              "    </tr>\n",
              "    <tr>\n",
              "      <th>2646</th>\n",
              "      <td>rogues</td>\n",
              "      <td>0.12472</td>\n",
              "    </tr>\n",
              "    <tr>\n",
              "      <th>1259</th>\n",
              "      <td>burning</td>\n",
              "      <td>0.12472</td>\n",
              "    </tr>\n",
              "    <tr>\n",
              "      <th>632</th>\n",
              "      <td>ta</td>\n",
              "      <td>0.12472</td>\n",
              "    </tr>\n",
              "    <tr>\n",
              "      <th>3620</th>\n",
              "      <td>hook</td>\n",
              "      <td>0.12472</td>\n",
              "    </tr>\n",
              "    <tr>\n",
              "      <th>2573</th>\n",
              "      <td>ragged</td>\n",
              "      <td>0.12472</td>\n",
              "    </tr>\n",
              "  </tbody>\n",
              "</table>\n",
              "</div>"
            ],
            "text/plain": [
              "            word load_pc1\n",
              "2460        lads  0.12472\n",
              "2331       penny  0.12472\n",
              "3033  shrewsbury  0.12472\n",
              "1356        lean  0.12472\n",
              "1671         rob  0.12472\n",
              "2646      rogues  0.12472\n",
              "1259     burning  0.12472\n",
              "632           ta  0.12472\n",
              "3620        hook  0.12472\n",
              "2573      ragged  0.12472"
            ]
          },
          "metadata": {
            "tags": []
          }
        },
        {
          "output_type": "display_data",
          "data": {
            "text/html": [
              "<div>\n",
              "<style scoped>\n",
              "    .dataframe tbody tr th:only-of-type {\n",
              "        vertical-align: middle;\n",
              "    }\n",
              "\n",
              "    .dataframe tbody tr th {\n",
              "        vertical-align: top;\n",
              "    }\n",
              "\n",
              "    .dataframe thead th {\n",
              "        text-align: right;\n",
              "    }\n",
              "</style>\n",
              "<table border=\"1\" class=\"dataframe\">\n",
              "  <thead>\n",
              "    <tr style=\"text-align: right;\">\n",
              "      <th></th>\n",
              "      <th>word</th>\n",
              "      <th>load_pc1</th>\n",
              "    </tr>\n",
              "  </thead>\n",
              "  <tbody>\n",
              "    <tr>\n",
              "      <th>3763</th>\n",
              "      <td>thorough</td>\n",
              "      <td>0.000448663</td>\n",
              "    </tr>\n",
              "    <tr>\n",
              "      <th>2571</th>\n",
              "      <td>est</td>\n",
              "      <td>0.000448663</td>\n",
              "    </tr>\n",
              "    <tr>\n",
              "      <th>1594</th>\n",
              "      <td>bite</td>\n",
              "      <td>0.000451705</td>\n",
              "    </tr>\n",
              "    <tr>\n",
              "      <th>1464</th>\n",
              "      <td>horn</td>\n",
              "      <td>0.000473645</td>\n",
              "    </tr>\n",
              "    <tr>\n",
              "      <th>1977</th>\n",
              "      <td>sisters</td>\n",
              "      <td>0.000497275</td>\n",
              "    </tr>\n",
              "    <tr>\n",
              "      <th>1363</th>\n",
              "      <td>pyramus</td>\n",
              "      <td>0.000514782</td>\n",
              "    </tr>\n",
              "    <tr>\n",
              "      <th>76</th>\n",
              "      <td>madam</td>\n",
              "      <td>0.000531132</td>\n",
              "    </tr>\n",
              "    <tr>\n",
              "      <th>503</th>\n",
              "      <td>don</td>\n",
              "      <td>0.00058265</td>\n",
              "    </tr>\n",
              "    <tr>\n",
              "      <th>1330</th>\n",
              "      <td>macbeth</td>\n",
              "      <td>0.000601497</td>\n",
              "    </tr>\n",
              "    <tr>\n",
              "      <th>871</th>\n",
              "      <td>wall</td>\n",
              "      <td>0.000771207</td>\n",
              "    </tr>\n",
              "  </tbody>\n",
              "</table>\n",
              "</div>"
            ],
            "text/plain": [
              "          word     load_pc1\n",
              "3763  thorough  0.000448663\n",
              "2571       est  0.000448663\n",
              "1594      bite  0.000451705\n",
              "1464      horn  0.000473645\n",
              "1977   sisters  0.000497275\n",
              "1363   pyramus  0.000514782\n",
              "76       madam  0.000531132\n",
              "503        don   0.00058265\n",
              "1330   macbeth  0.000601497\n",
              "871       wall  0.000771207"
            ]
          },
          "metadata": {
            "tags": []
          }
        }
      ]
    },
    {
      "cell_type": "markdown",
      "metadata": {
        "id": "Vv4QdBLHoazI"
      },
      "source": [
        "The higher the absolute value of the PC loading vector coefficients, the higher the significance of the particular feature in the given principal component (which in this case is PC1)"
      ]
    },
    {
      "cell_type": "markdown",
      "metadata": {
        "id": "GIN60eWvK7N2"
      },
      "source": [
        "#K-Means Clustering"
      ]
    },
    {
      "cell_type": "markdown",
      "metadata": {
        "id": "PHajMTKtGrI8"
      },
      "source": [
        "Use the `chars_pca_df` from  above and compute K-Means silhouette scores for K = 2 through 6 on the PCA score data. \n",
        " \n",
        "\n",
        "Train your model on each K 3 times to find the lowest silhouette score.  The silhouette score is a measure of within cluster variation.  Remember that because K-Means starts out with random cluster assignments, it is not guaranteed to find a global minima so you should make multiple runs to find the lowest score.  Plot the silhouette scores vs. K and report the lowest silhouette score from the plot. If the process of finding the lowest silhouette scores is taking too much time, reduce the number of PCA score columns such that you capture a reasonable amount of variance but complete training in a more reasonable amount of time. "
      ]
    },
    {
      "cell_type": "code",
      "metadata": {
        "id": "oGCenAC3YoNg",
        "colab": {
          "base_uri": "https://localhost:8080/"
        },
        "outputId": "dbcd8c12-9269-4b64-e5f6-82e35307222d"
      },
      "source": [
        "from pyspark.ml.clustering import KMeans\n",
        "from pyspark.ml import clustering\n",
        "from pyspark.ml.evaluation import ClusteringEvaluator\n",
        "from pyspark.ml.tuning import CrossValidator, ParamGridBuilder\n",
        "# Shows the result.\n",
        "#centers = pipe_pca_3.stages[-1].clusterCenters()\n",
        "#print(\"Cluster Centers: \")\n",
        "#for center in centers:\n",
        "#    print(center)\n",
        "pca=PCA(k=150, inputCol='ztfidf', outputCol='scores')\n",
        "means = clustering.KMeans(k=5, featuresCol='scores')\n",
        "\n",
        "grid = ParamGridBuilder().\\\n",
        "    addGrid(means.k, [2, 3, 4,5,6]).\\\n",
        "    build()\n",
        "\n",
        "\n",
        "all_models1 = []\n",
        "#all_models2 = []\n",
        "#all_models3 = []\n",
        "\n",
        "\n",
        "\n",
        "for j in range(len(grid)):\n",
        "    print(\"Fitting model {}\".format(j+1))\n",
        "    #model = lr_pipe_1.fit(training_df, grid[j])\n",
        "    \n",
        "\n",
        "    means = clustering.KMeans(k=j+2, featuresCol='scores').setSeed(j)\n",
        "    model = Pipeline(stages=[tokenizer, sw_filter, cv, idf,cnorm,cScale,pca,means]).fit(quotes_by_char_df,grid[j])\n",
        "    all_models1.append(model)\n",
        "    \n",
        "    #means = clustering.KMeans(k=j+2, featuresCol='scores').setSeed(j)\n",
        "    #model2 = Pipeline(stages=[tokenizer, sw_filter, cv, idf,cnorm,cScale,pca,means]).fit(quotes_by_char_df,grid[j])\n",
        "    #all_models2.append(model2)\n",
        "    \n",
        "    #means = clustering.KMeans(k=j+2, featuresCol='scores').setSeed(j)\n",
        "    #model3 = Pipeline(stages=[tokenizer, sw_filter, cv, idf,cnorm,cScale,pca,means]).fit(quotes_by_char_df,grid[j])\n",
        "    #all_models3.append(model3)        \n",
        "\n",
        "\n",
        "\n"
      ],
      "execution_count": null,
      "outputs": [
        {
          "output_type": "stream",
          "text": [
            "Fitting model 1\n",
            "Fitting model 2\n",
            "Fitting model 3\n",
            "Fitting model 4\n",
            "Fitting model 5\n"
          ],
          "name": "stdout"
        }
      ]
    },
    {
      "cell_type": "code",
      "metadata": {
        "id": "mMN8LPHPyyIe",
        "colab": {
          "base_uri": "https://localhost:8080/"
        },
        "outputId": "8fb3c7a4-a2ce-4056-8ff7-28dc3aa8a883"
      },
      "source": [
        "\n",
        "evaluator = ClusteringEvaluator(featuresCol='scores')\n",
        "\n",
        "\n",
        "silhouettes1 = [ evaluator.evaluate(m.transform(quotes_by_char_df)) for m in all_models1]\n",
        "print(\"silhouettes of the all the mdoels1:\",silhouettes1)\n",
        "#silhouettes2 = [ evaluator.evaluate(m.transform(quotes_by_char_df)) for m in all_models2]\n",
        "#print(\"silhouettes of the all the mdoels2:\",silhouettes2)\n",
        "#silhouettes3 = [ evaluator.evaluate(m.transform(quotes_by_char_df)) for m in all_models3]\n",
        "#print(\"silhouettes of the all the mdoels3:\",silhouettes3)"
      ],
      "execution_count": null,
      "outputs": [
        {
          "output_type": "stream",
          "text": [
            "silhouettes of the all the mdoels1: [0.9665046281618985, 0.9129357986445644, 0.8207917606733911, 0.8727517784962754, 0.4705775645594184]\n"
          ],
          "name": "stdout"
        }
      ]
    },
    {
      "cell_type": "markdown",
      "metadata": {
        "id": "peXo1K9rMXDJ"
      },
      "source": [
        "Perform K-Means clustering using the `chars_pca_df` and plot the results using a scatter plot.  \n",
        "\n",
        "Color the points by cluster assignment.  \n",
        "\n",
        "The goal is to try to find an interesting insight about the Shakespeare characters.  For example, perhaps you spot one or more outlier characters that stands apart from the rest of the characters in the cluster.  "
      ]
    },
    {
      "cell_type": "code",
      "metadata": {
        "id": "kqXWm1SsoJtJ",
        "colab": {
          "base_uri": "https://localhost:8080/",
          "height": 70
        },
        "outputId": "ebfa508e-90ba-4596-e55a-af5b18105e6a"
      },
      "source": [
        "predictions_2=all_models1[0].transform(quotes_by_char_df)\n",
        "\n",
        "X_2 = np.array(predictions_2.select('scores').rdd.map(lambda x: x['scores']).collect())\n",
        "k=np.array(predictions_2.select('prediction').rdd.map(lambda x: x['prediction']).collect())\n",
        "k_mean_df = pd.DataFrame({'x': X_2[:,0], 'y': X_2[:,1],'k':k})\n",
        "\n",
        "colors = np.where(k==1,'r','b')\n",
        "\n",
        "fig, ax = plt.subplots()\n",
        "fig.set_figheight(7)\n",
        "fig.set_figwidth(7)\n",
        "ax.scatter(X_2[:,0], X_2[:,1],c=colors)\n",
        "o1=k_mean_df.sort_values('x').head(1)\n",
        "o2=k_mean_df.sort_values('y').tail(1)\n",
        "\n",
        "ax.annotate('outlier', (float(o1['x']), float(o1['y'])))\n",
        "ax.annotate('outlier', (float(o2['x']), float(o2['y'])))\n",
        "\n",
        "fig.suptitle(\"K means clusters \", y=.92)\n",
        "ax.set_xlabel(\"PC1\")\n",
        "ax.set_ylabel(\"PC2\")"
      ],
      "execution_count": null,
      "outputs": [
        {
          "output_type": "execute_result",
          "data": {
            "text/plain": [
              "Text(0, 0.5, 'PC2')"
            ]
          },
          "metadata": {
            "tags": []
          },
          "execution_count": 16
        },
        {
          "output_type": "display_data",
          "data": {
            "image/png": "[encoded data removed]",
            "text/plain": [
              "<Figure size 504x504 with 1 Axes>"
            ]
          },
          "metadata": {
            "tags": [],
            "needs_background": "light"
          }
        }
      ]
    },
    {
      "cell_type": "markdown",
      "metadata": {
        "id": "MqY3QMORPxFV"
      },
      "source": [
        "Based on weights of silhouettes, K=2 apepars to work best. However, looking at the plot, it is apparent that there atleast 2 outliers. Whereas 1 of the outlier forms a cluster of its own. Either data should be improves or number of clusters should be increased\n",
        "\n",
        "Either K (number of clusters) should be increasesd."
      ]
    }
  ]
}